{
 "cells": [
  {
   "cell_type": "code",
   "execution_count": 579,
   "id": "b11e9fff",
   "metadata": {},
   "outputs": [],
   "source": [
    "import numpy as np\n",
    "import pandas as pd\n",
    "import os\n",
    "\n",
    "import surprise\n",
    "from scipy.sparse.linalg import svds\n",
    "from options import RecSysOptions\n",
    "import datetime\n",
    "from sklearn.metrics import mean_squared_error\n",
    "import surprise\n",
    "from surprise import Reader, Dataset, SVD\n",
    "\n",
    "from Levenshtein import distance as levenshtein\n",
    "from sklearn.metrics.pairwise import cosine_similarity\n",
    "import regex as re\n",
    "\n",
    "import warnings\n",
    "warnings.filterwarnings(\"ignore\")\n",
    "\n",
    "# import logging\n",
    "# logging.basicConfig(filename='app.log', level=logging.INFO, format='%(asctime)s - %(message)s',\n",
    "#                     datefmt='%d-%b-%y %H:%M:%S', filemode='a')\n",
    "# logger = logging.getLogger(__name__)"
   ]
  },
  {
   "cell_type": "code",
   "execution_count": 534,
   "outputs": [],
   "source": [
    "class SvdModel():\n",
    "    def __init__(self, n_vectors: int = 5):\n",
    "        self.n_vectors = n_vectors\n",
    "        self.data = None\n",
    "\n",
    "    def load_data(self, options: RecSysOptions):\n",
    "        model_path_split = os.path.splitext(options.model_data_path)\n",
    "        options.model_name = model_path_split[0]\n",
    "        options.model_extention = model_path_split[1][1:]\n",
    "\n",
    "        if options.model_extention == 'csv':\n",
    "            self.data = pd.read_csv(options.model_data_path,encoding=options.encoding)\n",
    "        else:\n",
    "            raise Exception(\"Wrong model extension\")\n",
    "        return\n",
    "\n",
    "    def fit(self, matrix: pd.DataFrame, n_vectors: int, mean_user_rating: np.ndarray): #, std_user_rating: np.ndarray):\n",
    "        u, sigma, vt = svds(matrix, k=n_vectors)\n",
    "        sigma_diag_matrix = np.diag(sigma)\n",
    "        # predicted_ratings = np.dot(np.dot(u, sigma_diag_matrix), vt) * std_user_rating + mean_user_rating\n",
    "        predicted_ratings = np.dot(np.dot(u, sigma_diag_matrix), vt) + mean_user_rating\n",
    "        self.data = pd.DataFrame(abs(predicted_ratings), columns = matrix.columns)\n",
    "        return self.data\n",
    "\n",
    "    def save(self, name: str, options: RecSysOptions):\n",
    "        if name != options.model_name:\n",
    "            options.renew_model_name_and_path(name)\n",
    "        self.data.to_csv(options.model_data_path, index=False)\n",
    "        return\n"
   ],
   "metadata": {
    "collapsed": false
   }
  },
  {
   "cell_type": "code",
   "execution_count": 694,
   "id": "3a31e513",
   "metadata": {},
   "outputs": [],
   "source": [
    "class RecSysMF():\n",
    "    def __init__(self, options: RecSysOptions):\n",
    "        self.options = options\n",
    "        self.model = None\n",
    "        self.users_matrix = None\n",
    "        self.items_matrix = None\n",
    "        self.ratings_train = None\n",
    "        self.ratings_test = None\n",
    "        self.user_item_matrix = None\n",
    "        self.mean_user_rating = None\n",
    "        #self.std_user_rating = None\n",
    "        self.n_users = None\n",
    "        self.n_items = None\n",
    "        self.trained = False\n",
    "        self.surprise_matrix = None\n",
    "        self.items_similarity_matrix = None\n",
    "        pass\n",
    "\n",
    "    # def warmup(self, model_name: str='model', model_extension: str='csv'):\n",
    "    def warmup(self, model_type: str='SVD'):\n",
    "        print(self.options.model_data_path, self.options.model_name, self.options.model_extention)\n",
    "        if self.__is_model_exists(self.options.model_data_path):\n",
    "            print('model exist')\n",
    "            if model_type == 'SVD':\n",
    "                self.model = SvdModel()\n",
    "                self.model.load_data(self.options)\n",
    "            else:\n",
    "                raise Exception('Invalid model type!')\n",
    "        else:\n",
    "            print('model dont exist')\n",
    "\n",
    "        self.users_matrix, self.n_users = self.__load_users_data(self.options.users_data_path)\n",
    "        self.items_matrix, self.n_items = self.__load_items_data(self.options.items_data_path)\n",
    "        \n",
    "        self.users_matrix = self.__proceed_users(self.users_matrix)\n",
    "        self.items_matrix = self.__proceed_items(self.items_matrix)\n",
    "        # logger.info(f\"Model: {self.options.model} successfully loaded: {datetime.now()}\")\n",
    "        pass\n",
    "\n",
    "    def train(self, train_data_path: str=None):\n",
    "        self.warmup()\n",
    "\n",
    "        if train_data_path == None:\n",
    "            train_data_path = self.options.train_data_path\n",
    "\n",
    "        self.ratings_train = self.__load_ratings(train_data_path)\n",
    "        print('here we go')\n",
    "        self.user_item_matrix = self.__create_user_item_matrix(self.users_matrix, self.items_matrix, self.ratings_train)\n",
    "\n",
    "        # predict \n",
    "        # matrix demeaned\n",
    "        #self.user_item_matrix, self.mean_user_rating, self.std_user_rating = self.__normalize_matrix(self.user_item_matrix)\n",
    "        self.user_item_matrix, self.mean_user_rating = self.__normalize_matrix(self.user_item_matrix)\n",
    "        self.model.fit(self.user_item_matrix, self.options.n_vectors, self.mean_user_rating) #, self.std_user_rating)\n",
    "\n",
    "        self.model.save(self.options.model_name, self.options)\n",
    "        self.trained = True\n",
    "\n",
    "        return\n",
    "    \n",
    "    def __is_model_exists(self, model_data_path: str):\n",
    "        \"\"\"\n",
    "        все модели сохраняются в моделс сторе\n",
    "        \"\"\"\n",
    "        return os.path.exists(model_data_path)\n",
    "\n",
    "    def __create_user_item_matrix(self, users: pd.DataFrame, items: pd.DataFrame, ratings: pd.DataFrame):\n",
    "        user_item_rating_dataframe = self.__create_user_item_rating_dataframe(users, items, ratings)\n",
    "        matrix = user_item_rating_dataframe.pivot(index='user_id', columns='movie_id', values='rating').fillna(0)\n",
    "        return matrix\n",
    "\n",
    "    def __create_user_item_rating_dataframe(self, users: pd.DataFrame, items: pd.DataFrame, ratings: pd.DataFrame):\n",
    "        dataframe = pd.merge(ratings, items, on='movie_id', how='left').merge(users, on='user_id', how='left')\n",
    "        return dataframe\n",
    "\n",
    "    def __load_model_data(self, model_path: str):\n",
    "        model_path_split = os.path.splitext(model_path)\n",
    "        self.options.model_name = model_path_split[0]\n",
    "        self.options.model_extention = model_path_split[1][1:]\n",
    "\n",
    "        if self.options.model_extention == 'csv':\n",
    "            self.model = pd.read_csv(self.options.model_store + f'{model_path}',encoding=self.options.encoding)\n",
    "        else:\n",
    "            raise Exception(\"Wrong model extension\")\n",
    "        return\n",
    "\n",
    "    def __load_users_data(self, users_data: str):\n",
    "        users = pd.read_csv(users_data, names=['user_id', 'gender', 'age', 'occupation', 'zip-code'],\n",
    "                 sep=self.options.data_loading_sep, engine=self.options.data_loading_engine, encoding=self.options.encoding)\n",
    "        n_users = users['user_id'].nunique()\n",
    "\n",
    "        return users, n_users\n",
    "\n",
    "    # вынести\n",
    "    def __load_items_data(self, items_data: str):\n",
    "        items = pd.read_csv(items_data, names=['movie_id', 'title', 'genres'],\n",
    "                 sep=self.options.data_loading_sep, engine=self.options.data_loading_engine, encoding=self.options.encoding)\n",
    "        n_items = items['movie_id'].nunique()\n",
    "\n",
    "        return items, n_items\n",
    "\n",
    "    # def __load_ratings(self, ratings_data_path: str, is_train: bool=True):    \n",
    "    def __load_ratings(self, ratings_data_path: str):\n",
    "        ratings = pd.read_csv(ratings_data_path, names=['user_id', 'movie_id', 'rating', 'date'],\n",
    "                            sep=self.options.data_loading_sep, engine=self.options.data_loading_engine, encoding=self.options.encoding)\n",
    "        # if is_train:\n",
    "        #     self.ratings_train = ratings\n",
    "        # else:\n",
    "        #     self.ratings_test = ratings\n",
    "        return ratings\n",
    "\n",
    "    def __proceed_items(self, items_matrix: pd.DataFrame):\n",
    "        items_matrix['release_year'] = items_matrix['title'].str.extract(r'(?:\\((\\d{4})\\))?\\s*$', expand=False)\n",
    "        return items_matrix\n",
    "    \n",
    "    def __proceed_users(self, users_matrix: pd.DataFrame):\n",
    "        return users_matrix\n",
    "\n",
    "    def __normalize_matrix(self, matrix: pd.DataFrame):\n",
    "        mean_user_rating = np.mean(matrix.values, axis=1).reshape(-1, 1)\n",
    "        #std_user_rating = np.std(matrix.values, axis=1).reshape(-1, 1)\n",
    "        matrix_normalized_values = (matrix.values - mean_user_rating) # / std_user_rating\n",
    "        matrix = pd.DataFrame(data=matrix_normalized_values, index=matrix.index, columns=matrix.columns)\n",
    "        \n",
    "        return matrix, mean_user_rating #, std_user_rating\n",
    "\n",
    "    def __get_movies_ids(self, predictions: pd.DataFrame):\n",
    "        ids = predictions.columns.values\n",
    "        return [int(x) for x in ids]\n",
    "\n",
    "    def evaluate(self, test_data_path: str=None):\n",
    "        if self.trained == False:\n",
    "            raise Exception('Model not trained!')\n",
    "\n",
    "        self.warmup()\n",
    "        if test_data_path == None:\n",
    "            test_data_path = self.options.test_data_path\n",
    "\n",
    "        self.ratings_test = self.__load_ratings(test_data_path)\n",
    "        test_dataset = self.__create_user_item_rating_dataframe(self.users_matrix, self.items_matrix, self.ratings_test)\n",
    "        rmse = self.calculate_rmse(test_dataset, self.model.data)\n",
    "\n",
    "        print(f'RMSE: {rmse}')\n",
    "        return rmse\n",
    "\n",
    "    def calculate_rmse(self, dataset: pd.DataFrame, preds: pd.DataFrame):\n",
    "\n",
    "        real_marks = []\n",
    "        predictions = []\n",
    "        for index, row in dataset.iterrows():\n",
    "            user_id = row['user_id'] - 1\n",
    "            movie_id = str(row['movie_id'])\n",
    "            rating = row['rating']\n",
    "            if movie_id in preds.columns:\n",
    "                real_marks.append(rating)\n",
    "                predictions.append(preds[f'{movie_id}'][user_id])\n",
    "\n",
    "        return mean_squared_error(real_marks, predictions, squared=False)\n",
    "\n",
    "\n",
    "    #### surprise ####\n",
    "    def surprise_train(self, train_data_path: str=None):\n",
    "        if train_data_path == None:\n",
    "            train_data_path = self.options.train_data_path\n",
    "\n",
    "        self.ratings_train = self.__load_ratings(train_data_path)\n",
    "\n",
    "        dataset = self.__surprise_get_dataset(self.ratings_train)\n",
    "        self.__surprise_fit_model(dataset)\n",
    "        self.trained = True\n",
    "        return\n",
    "\n",
    "    def __surprise_get_dataset(self, ratings: pd.DataFrame):\n",
    "        return Dataset.load_from_df(ratings[['user_id', 'movie_id', 'rating']], reader=Reader(rating_scale=(1,5)))\n",
    "\n",
    "    def __surprise_fit_model(self, dataset: surprise.Dataset):\n",
    "        self.model = SVD(n_factors=50)\n",
    "        self.model.fit(dataset.build_full_trainset())\n",
    "\n",
    "    def __surprise_make_predictions(self, dataset: surprise.Dataset):\n",
    "        real_marks = []\n",
    "        predictions = []\n",
    "        for row in dataset.build_full_trainset().build_testset():\n",
    "            real_marks.append(row[2])\n",
    "            predictions.append(self.model.predict(row[0], row[1]).est)\n",
    "\n",
    "        return np.array(real_marks), np.array(predictions)\n",
    "\n",
    "    def __surprise_calculate_rmse(self, real: np.matrix, pred: np.matrix):\n",
    "        return mean_squared_error(real, pred, squared=False)\n",
    "\n",
    "    def surprise_evaluate(self, test_data_path: str=None):\n",
    "        if self.trained == False:\n",
    "            raise Exception('Model not trained!')\n",
    "\n",
    "        if test_data_path == None:\n",
    "            test_data_path = self.options.test_data_path\n",
    "\n",
    "        self.ratings_test = self.__load_ratings(test_data_path)\n",
    "\n",
    "        dataset = self.__surprise_get_dataset(self.ratings_test)\n",
    "\n",
    "        real_marks, predictions = self.__surprise_make_predictions(dataset)\n",
    "\n",
    "        rmse = self.__surprise_calculate_rmse(real_marks, predictions)\n",
    "\n",
    "        print(f'RMSE evaluate: {rmse}')\n",
    "\n",
    "\n",
    "\n",
    "    # query handlers\n",
    "\n",
    "    def __find_item_by_name(self, received_name: str):\n",
    "        item_index = self.items_matrix['title'].apply(lambda title: levenshtein(re.sub(r' \\([0-9]{4}\\)', '', title.lower()), received_name.lower())).idxmin()\n",
    "        item_id = self.items_matrix.loc[item_index]['movie_id']\n",
    "        return item_id\n",
    "\n",
    "    def __calculate_items_similarity_matrix(self, items_matrix: pd.DataFrame):\n",
    "        # t тк вектор - фильм\n",
    "        similarity_matrix = cosine_similarity(items_matrix, items_matrix)\n",
    "        # нуля чтоб сам себя не рекоммендовал\n",
    "        np.fill_diagonal(similarity_matrix, 0)\n",
    "        similarity_df = pd.DataFrame(similarity_matrix, self.model.data.columns, self.model.data.columns)\n",
    "        return similarity_df\n",
    "\n",
    "    def __find_similar(self, movie_id: int, n: int=5):\n",
    "        items_idxs = np.array(self.items_similarity_matrix[movie_id].sort_values(ascending=False)[:n].index.values, dtype=int).tolist()\n",
    "\n",
    "        items = self.__sort_items_by_ids(self.items_matrix, items_idxs)\n",
    "\n",
    "        items_idxs = [int(x) for x in items_idxs]\n",
    "        return items_idxs, items\n",
    "\n",
    "    def get_similar_items(self, received_name: str='Bambi (1942)', amount: int=5):\n",
    "        item_id = self.__find_item_by_name(received_name)\n",
    "        if self.items_similarity_matrix is None:\n",
    "            self.items_similarity_matrix = self.__calculate_items_similarity_matrix(self.model.data.T)\n",
    "        items_idxs, items = self.__find_similar(item_id, amount)\n",
    "        return [items_idxs, items]\n",
    "\n",
    "    def predict(self, items_ratings: list, M: int=10):\n",
    "        if len(array.shape) == 1:\n",
    "            raise Exception('Wrong input!')\n",
    "\n",
    "        new_user_row = self.__init_new_row(items_ratings)\n",
    "\n",
    "        # print(new_user_row)\n",
    "\n",
    "        most_similar_user_id = pd.DataFrame(data=cosine_similarity(new_user_row, self.model.data),\n",
    "                                         columns=self.model.data.T.columns.values).idxmax(axis=1).max()\n",
    "\n",
    "        # print(most_similar_user_id)\n",
    "\n",
    "        items_ids = [int(x) for x in self.model.data.T[most_similar_user_id].sort_values(ascending=False)[:M].index.values.tolist()]\n",
    "        items_ratings = self.model.data.T[most_similar_user_id].sort_values(ascending=False)[:M].values.tolist()\n",
    "        items_names = self.__find_items_by_ids(items_ids).title.values.tolist()\n",
    "\n",
    "        return [items_names, items_ratings]\n",
    "\n",
    "    def __find_items_by_ids(self, ids: list):\n",
    "        return self.items_matrix.loc[self.items_matrix['movie_id'].isin(ids), :]\n",
    "\n",
    "    def __init_new_row(self, items_ratings: list):\n",
    "\n",
    "        items_ids = items_ratings[0]\n",
    "        ratings = items_ratings[1]\n",
    "\n",
    "        # for (items_id, rating) in zip(items_ids, ratings):\n",
    "        #     # if items_id in new_user_row.columns:\n",
    "        #     new_user_row[f'{items_id}'] = rating\n",
    "\n",
    "        new_user_row = pd.DataFrame(data=[ratings],  columns=self.model.data.columns)\n",
    "        return new_user_row\n",
    "\n",
    "    def __create_indexer_dict(self, items_ids: list):\n",
    "        indexer = {}\n",
    "        for i, val in enumerate(items_ids):\n",
    "            indexer[val] = i\n",
    "        return indexer\n",
    "\n",
    "    def __sort_items_by_ids(self, items: pd.DataFrame, items_ids: list):\n",
    "        indexer = self.__create_indexer_dict(items_ids)\n",
    "        items = items.loc[items['movie_id'].isin(items_ids), :]\n",
    "        items.loc[:, ['order']] = items['movie_id'].map(indexer)\n",
    "        names = items.sort_values('order')['title'].values.tolist()\n",
    "        return names"
   ]
  },
  {
   "cell_type": "code",
   "execution_count": 695,
   "id": "625d8b36",
   "metadata": {},
   "outputs": [
    {
     "name": "stdout",
     "output_type": "stream",
     "text": [
      "./store\\model.csv\n"
     ]
    }
   ],
   "source": [
    "options = RecSysOptions()"
   ]
  },
  {
   "cell_type": "code",
   "execution_count": 696,
   "outputs": [],
   "source": [
    "recsys = RecSysMF(options)"
   ],
   "metadata": {
    "collapsed": false
   }
  },
  {
   "cell_type": "code",
   "execution_count": 696,
   "outputs": [],
   "source": [],
   "metadata": {
    "collapsed": false
   }
  },
  {
   "cell_type": "code",
   "execution_count": 697,
   "outputs": [
    {
     "name": "stdout",
     "output_type": "stream",
     "text": [
      "./store\\model.csv model csv\n",
      "model exist\n",
      "here we go\n",
      "Wall time: 55.4 s\n"
     ]
    }
   ],
   "source": [
    "%%time\n",
    "\n",
    "recsys.train('../data/train/ratings_train.dat')"
   ],
   "metadata": {
    "collapsed": false
   }
  },
  {
   "cell_type": "code",
   "execution_count": 467,
   "outputs": [
    {
     "name": "stdout",
     "output_type": "stream",
     "text": [
      "./store\\model.csv ./store\\model csv\n",
      "model exist\n",
      "RMSE: 2.7436507693623815\n",
      "Wall time: 8.27 s\n"
     ]
    },
    {
     "data": {
      "text/plain": "2.7436507693623815"
     },
     "execution_count": 467,
     "metadata": {},
     "output_type": "execute_result"
    }
   ],
   "source": [
    "%%time\n",
    "\n",
    "recsys.evaluate('./../data/test/ratings_test.dat')"
   ],
   "metadata": {
    "collapsed": false
   }
  },
  {
   "cell_type": "code",
   "execution_count": 584,
   "outputs": [
    {
     "data": {
      "text/plain": "[[1038, 3517, 2811, 666, 1160],\n ['Unhook the Stars (1996)',\n  'Bells, The (1926)',\n  'With Friends Like These... (1998)',\n  'All Things Fair (1996)',\n  'Six of a Kind (1934)']]"
     },
     "execution_count": 584,
     "metadata": {},
     "output_type": "execute_result"
    }
   ],
   "source": [
    "recsys.get_similar_items('terminator 2', 5)"
   ],
   "metadata": {
    "collapsed": false
   }
  },
  {
   "cell_type": "code",
   "execution_count": 702,
   "outputs": [],
   "source": [
    "user_id = 50\n",
    "data = [[int(x) for x in recsys.model.data.T[user_id].index.values.tolist()], recsys.model.data.T[user_id].tolist()]"
   ],
   "metadata": {
    "collapsed": false
   }
  },
  {
   "cell_type": "code",
   "execution_count": 701,
   "outputs": [],
   "source": [
    "# recsys.model.data.T[user_id].index.values.tolist()"
   ],
   "metadata": {
    "collapsed": false
   }
  },
  {
   "cell_type": "code",
   "execution_count": 700,
   "outputs": [],
   "source": [
    "# recsys.model.data"
   ],
   "metadata": {
    "collapsed": false
   }
  },
  {
   "cell_type": "code",
   "execution_count": 698,
   "outputs": [],
   "source": [
    "# row_data = np.zeros_like(recsys.model.data.columns)\n",
    "#\n",
    "# items_ids = data[0]\n",
    "# ratings = data[1]\n",
    "#\n",
    "# for (i, rating) in enumerate(ratings):\n",
    "#     print(i, rating)\n",
    "#     # if items_id in new_user_row.columns:\n",
    "#     row_data[i] = rating\n",
    "#\n",
    "# new_user_row = pd.DataFrame(data=[ratings],  columns=recsys.model.data.columns, dtype=float)\n",
    "# new_user_row\n",
    "#\n"
   ],
   "metadata": {
    "collapsed": false
   }
  },
  {
   "cell_type": "code",
   "execution_count": 705,
   "outputs": [
    {
     "data": {
      "text/plain": "[['Toy Story (1995)',\n  'Babe (1995)',\n  'Shawshank Redemption, The (1994)',\n  'Groundhog Day (1993)',\n  'Shakespeare in Love (1998)',\n  'Election (1999)',\n  'American Beauty (1999)',\n  'Toy Story 2 (1999)',\n  'X-Men (2000)',\n  'Almost Famous (2000)'],\n [4.937720848094659,\n  4.5137474506584425,\n  4.024122789018908,\n  3.703004951626429,\n  3.5512888355791494,\n  3.492567441156093,\n  3.419010923191872,\n  3.055025630521286,\n  2.7751210065072396,\n  2.328677939150544]]"
     },
     "execution_count": 705,
     "metadata": {},
     "output_type": "execute_result"
    }
   ],
   "source": [
    "recsys.predict(data)"
   ],
   "metadata": {
    "collapsed": false
   }
  },
  {
   "cell_type": "code",
   "execution_count": 703,
   "outputs": [
    {
     "data": {
      "text/plain": "[3114, 1, 318, 34, 2599, 1265, 2396, 2858, 3793, 3897]"
     },
     "execution_count": 703,
     "metadata": {},
     "output_type": "execute_result"
    }
   ],
   "source": [
    "# любимые фильмы первого\n",
    "user_1_top_10_idx = recsys.model.data.T[user_id].sort_values(ascending=False)[:10].index.values\n",
    "user_1_top_10_idx.tolist()"
   ],
   "metadata": {
    "collapsed": false
   }
  },
  {
   "cell_type": "code",
   "execution_count": 704,
   "outputs": [
    {
     "data": {
      "text/plain": "      movie_id                             title                       genres  \\\n0            1                  Toy Story (1995)  Animation|Children's|Comedy   \n33          34                       Babe (1995)      Children's|Comedy|Drama   \n315        318  Shawshank Redemption, The (1994)                        Drama   \n1245      1265              Groundhog Day (1993)               Comedy|Romance   \n2327      2396        Shakespeare in Love (1998)               Comedy|Romance   \n2530      2599                   Election (1999)                       Comedy   \n2789      2858            American Beauty (1999)                 Comedy|Drama   \n3045      3114                Toy Story 2 (1999)  Animation|Children's|Comedy   \n3724      3793                      X-Men (2000)                Action|Sci-Fi   \n3827      3897              Almost Famous (2000)                 Comedy|Drama   \n\n     release_year  \n0            1995  \n33           1995  \n315          1994  \n1245         1993  \n2327         1998  \n2530         1999  \n2789         1999  \n3045         1999  \n3724         2000  \n3827         2000  ",
      "text/html": "<div>\n<style scoped>\n    .dataframe tbody tr th:only-of-type {\n        vertical-align: middle;\n    }\n\n    .dataframe tbody tr th {\n        vertical-align: top;\n    }\n\n    .dataframe thead th {\n        text-align: right;\n    }\n</style>\n<table border=\"1\" class=\"dataframe\">\n  <thead>\n    <tr style=\"text-align: right;\">\n      <th></th>\n      <th>movie_id</th>\n      <th>title</th>\n      <th>genres</th>\n      <th>release_year</th>\n    </tr>\n  </thead>\n  <tbody>\n    <tr>\n      <th>0</th>\n      <td>1</td>\n      <td>Toy Story (1995)</td>\n      <td>Animation|Children's|Comedy</td>\n      <td>1995</td>\n    </tr>\n    <tr>\n      <th>33</th>\n      <td>34</td>\n      <td>Babe (1995)</td>\n      <td>Children's|Comedy|Drama</td>\n      <td>1995</td>\n    </tr>\n    <tr>\n      <th>315</th>\n      <td>318</td>\n      <td>Shawshank Redemption, The (1994)</td>\n      <td>Drama</td>\n      <td>1994</td>\n    </tr>\n    <tr>\n      <th>1245</th>\n      <td>1265</td>\n      <td>Groundhog Day (1993)</td>\n      <td>Comedy|Romance</td>\n      <td>1993</td>\n    </tr>\n    <tr>\n      <th>2327</th>\n      <td>2396</td>\n      <td>Shakespeare in Love (1998)</td>\n      <td>Comedy|Romance</td>\n      <td>1998</td>\n    </tr>\n    <tr>\n      <th>2530</th>\n      <td>2599</td>\n      <td>Election (1999)</td>\n      <td>Comedy</td>\n      <td>1999</td>\n    </tr>\n    <tr>\n      <th>2789</th>\n      <td>2858</td>\n      <td>American Beauty (1999)</td>\n      <td>Comedy|Drama</td>\n      <td>1999</td>\n    </tr>\n    <tr>\n      <th>3045</th>\n      <td>3114</td>\n      <td>Toy Story 2 (1999)</td>\n      <td>Animation|Children's|Comedy</td>\n      <td>1999</td>\n    </tr>\n    <tr>\n      <th>3724</th>\n      <td>3793</td>\n      <td>X-Men (2000)</td>\n      <td>Action|Sci-Fi</td>\n      <td>2000</td>\n    </tr>\n    <tr>\n      <th>3827</th>\n      <td>3897</td>\n      <td>Almost Famous (2000)</td>\n      <td>Comedy|Drama</td>\n      <td>2000</td>\n    </tr>\n  </tbody>\n</table>\n</div>"
     },
     "execution_count": 704,
     "metadata": {},
     "output_type": "execute_result"
    }
   ],
   "source": [
    "recsys.items_matrix.loc[recsys.items_matrix['movie_id'].isin(user_1_top_10_idx.tolist()), :]"
   ],
   "metadata": {
    "collapsed": false
   }
  },
  {
   "cell_type": "code",
   "execution_count": 616,
   "outputs": [
    {
     "ename": "TypeError",
     "evalue": "sort_values() got an unexpected keyword argument 'by'",
     "output_type": "error",
     "traceback": [
      "\u001B[1;31m---------------------------------------------------------------------------\u001B[0m",
      "\u001B[1;31mTypeError\u001B[0m                                 Traceback (most recent call last)",
      "\u001B[1;32m~\\AppData\\Local\\Temp/ipykernel_10112/1405843324.py\u001B[0m in \u001B[0;36m<module>\u001B[1;34m\u001B[0m\n\u001B[1;32m----> 1\u001B[1;33m \u001B[0msim_df\u001B[0m\u001B[1;33m[\u001B[0m\u001B[1;34m'1'\u001B[0m\u001B[1;33m]\u001B[0m\u001B[1;33m.\u001B[0m\u001B[0msort_values\u001B[0m\u001B[1;33m(\u001B[0m\u001B[0mby\u001B[0m\u001B[1;33m=\u001B[0m\u001B[1;34m'1'\u001B[0m\u001B[1;33m,\u001B[0m \u001B[0mascending\u001B[0m\u001B[1;33m=\u001B[0m\u001B[1;32mFalse\u001B[0m\u001B[1;33m)\u001B[0m\u001B[1;33m[\u001B[0m\u001B[1;33m:\u001B[0m\u001B[1;36m5\u001B[0m\u001B[1;33m]\u001B[0m\u001B[1;33m.\u001B[0m\u001B[0mindex\u001B[0m\u001B[1;33m.\u001B[0m\u001B[0mvalues\u001B[0m\u001B[1;33m\u001B[0m\u001B[1;33m\u001B[0m\u001B[0m\n\u001B[0m",
      "\u001B[1;32m~\\anaconda3\\lib\\site-packages\\pandas\\util\\_decorators.py\u001B[0m in \u001B[0;36mwrapper\u001B[1;34m(*args, **kwargs)\u001B[0m\n\u001B[0;32m    309\u001B[0m                     \u001B[0mstacklevel\u001B[0m\u001B[1;33m=\u001B[0m\u001B[0mstacklevel\u001B[0m\u001B[1;33m,\u001B[0m\u001B[1;33m\u001B[0m\u001B[1;33m\u001B[0m\u001B[0m\n\u001B[0;32m    310\u001B[0m                 )\n\u001B[1;32m--> 311\u001B[1;33m             \u001B[1;32mreturn\u001B[0m \u001B[0mfunc\u001B[0m\u001B[1;33m(\u001B[0m\u001B[1;33m*\u001B[0m\u001B[0margs\u001B[0m\u001B[1;33m,\u001B[0m \u001B[1;33m**\u001B[0m\u001B[0mkwargs\u001B[0m\u001B[1;33m)\u001B[0m\u001B[1;33m\u001B[0m\u001B[1;33m\u001B[0m\u001B[0m\n\u001B[0m\u001B[0;32m    312\u001B[0m \u001B[1;33m\u001B[0m\u001B[0m\n\u001B[0;32m    313\u001B[0m         \u001B[1;32mreturn\u001B[0m \u001B[0mwrapper\u001B[0m\u001B[1;33m\u001B[0m\u001B[1;33m\u001B[0m\u001B[0m\n",
      "\u001B[1;31mTypeError\u001B[0m: sort_values() got an unexpected keyword argument 'by'"
     ]
    }
   ],
   "source": [
    "sim_df['1'].sort_values(by='1', ascending=False)[:5].index.values"
   ],
   "metadata": {
    "collapsed": false
   }
  },
  {
   "cell_type": "code",
   "execution_count": null,
   "outputs": [],
   "source": [],
   "metadata": {
    "collapsed": false
   }
  },
  {
   "cell_type": "code",
   "execution_count": null,
   "outputs": [],
   "source": [],
   "metadata": {
    "collapsed": false
   }
  },
  {
   "cell_type": "code",
   "execution_count": null,
   "outputs": [],
   "source": [],
   "metadata": {
    "collapsed": false
   }
  },
  {
   "cell_type": "code",
   "execution_count": null,
   "outputs": [],
   "source": [],
   "metadata": {
    "collapsed": false
   }
  },
  {
   "cell_type": "code",
   "execution_count": null,
   "outputs": [],
   "source": [],
   "metadata": {
    "collapsed": false
   }
  },
  {
   "cell_type": "code",
   "execution_count": 560,
   "outputs": [],
   "source": [
    "# recsys.items_similarity_matrix[61]"
   ],
   "metadata": {
    "collapsed": false
   }
  },
  {
   "cell_type": "code",
   "execution_count": 561,
   "outputs": [],
   "source": [
    "# cosine_similarity(recsys.model.data, recsys.model.data)"
   ],
   "metadata": {
    "collapsed": false
   }
  },
  {
   "cell_type": "code",
   "execution_count": 562,
   "outputs": [],
   "source": [
    "# magnitude  = np.sqrt(np.einsum('ij, ij -> i', recsys.model.data.values, recsys.model.data.values))"
   ],
   "metadata": {
    "collapsed": false
   }
  },
  {
   "cell_type": "code",
   "execution_count": 419,
   "outputs": [],
   "source": [
    "movie_id = 596"
   ],
   "metadata": {
    "collapsed": false
   }
  },
  {
   "cell_type": "code",
   "execution_count": 423,
   "outputs": [
    {
     "data": {
      "text/plain": "0       1.471272\n1       0.330625\n2       0.081332\n3       0.115323\n4       0.013878\n          ...   \n6035    3.675408\n6036    0.196762\n6037    0.017805\n6038    0.289937\n6039    0.316164\nName: 596, Length: 6040, dtype: float64"
     },
     "execution_count": 423,
     "metadata": {},
     "output_type": "execute_result"
    }
   ],
   "source": [
    "recsys.model.data[str(movie_id)]"
   ],
   "metadata": {
    "collapsed": false
   }
  },
  {
   "cell_type": "code",
   "execution_count": 427,
   "outputs": [
    {
     "data": {
      "text/plain": "          0         1         2         3         4         5         6     \\\n1     4.871885  0.668710  0.714893  0.193247  0.361484  3.243722  0.090134   \n2     0.438117  0.092948  0.575860  0.214896  0.358291  0.186826  0.057171   \n3     0.236267  0.239192  0.038079  0.065603  0.086292  0.361229  0.195316   \n4     0.068818  0.005992  0.009929  0.072932  0.192728  0.078846  0.067753   \n5     0.111529  0.111383  0.011354  0.055503  0.380067  0.129457  0.066480   \n...        ...       ...       ...       ...       ...       ...       ...   \n3948  0.237982  0.627199  0.043739  0.094150  0.273037  0.339920  0.207974   \n3949  0.036789  0.293496  0.109650  0.099849  0.480053  0.050315  0.158560   \n3950  0.023227  0.020154  0.036885  0.038574  0.006323  0.051571  0.104950   \n3951  0.096212  0.034439  0.067831  0.007892  0.141444  0.041613  0.003199   \n3952  0.155818  0.127223  0.045004  0.154607  0.231599  0.088995  0.051600   \n\n          7         8         9     ...      6030      6031      6032  \\\n1     2.503542  4.657500  4.982542  ...  0.198171  3.559481  0.608762   \n2     0.175612  0.307891  3.446350  ...  0.141817  0.158343  0.215073   \n3     0.697256  0.097562  0.891705  ...  0.030427  0.071279  0.064333   \n4     0.476411  0.069276  0.085827  ...  0.011302  0.011248  0.066994   \n5     0.271837  0.058576  1.218124  ...  0.162230  0.228063  0.047033   \n...        ...       ...       ...  ...       ...       ...       ...   \n3948  0.018805  0.766159  0.727699  ...  0.298318  0.134509  0.041080   \n3949  0.259364  0.016426  0.189360  ...  0.010939  0.241871  0.002943   \n3950  0.047434  0.091822  0.204647  ...  0.111578  0.041979  0.005280   \n3951  0.046715  0.009995  0.169664  ...  0.082670  0.076223  0.007305   \n3952  0.003836  0.329807  0.587817  ...  0.029939  0.251553  0.002293   \n\n          6033      6034      6035      6036      6037      6038      6039  \n1     0.113156  3.702419  0.053738  0.655982  0.075344  0.269848  1.901347  \n2     0.035222  0.521429  0.488578  0.543154  0.067651  0.345289  0.151289  \n3     0.026030  1.009622  0.003457  0.041341  0.121138  0.050865  0.247654  \n4     0.014847  0.345044  0.661493  0.027133  0.011392  0.000217  0.017847  \n5     0.048250  0.845374  0.129167  0.055304  0.002136  0.169258  0.170130  \n...        ...       ...       ...       ...       ...       ...       ...  \n3948  0.109624  0.549066  1.313711  0.226731  0.098053  0.891569  0.659637  \n3949  0.107708  0.004363  1.678013  0.495063  0.005975  0.327751  0.329644  \n3950  0.066220  0.056851  0.468784  0.039329  0.015083  0.011674  0.120566  \n3951  0.032883  0.043014  0.321853  0.149732  0.015647  0.076091  0.118427  \n3952  0.075056  0.042329  0.631957  0.277096  0.165250  0.218880  0.021517  \n\n[3700 rows x 6040 columns]",
      "text/html": "<div>\n<style scoped>\n    .dataframe tbody tr th:only-of-type {\n        vertical-align: middle;\n    }\n\n    .dataframe tbody tr th {\n        vertical-align: top;\n    }\n\n    .dataframe thead th {\n        text-align: right;\n    }\n</style>\n<table border=\"1\" class=\"dataframe\">\n  <thead>\n    <tr style=\"text-align: right;\">\n      <th></th>\n      <th>0</th>\n      <th>1</th>\n      <th>2</th>\n      <th>3</th>\n      <th>4</th>\n      <th>5</th>\n      <th>6</th>\n      <th>7</th>\n      <th>8</th>\n      <th>9</th>\n      <th>...</th>\n      <th>6030</th>\n      <th>6031</th>\n      <th>6032</th>\n      <th>6033</th>\n      <th>6034</th>\n      <th>6035</th>\n      <th>6036</th>\n      <th>6037</th>\n      <th>6038</th>\n      <th>6039</th>\n    </tr>\n  </thead>\n  <tbody>\n    <tr>\n      <th>1</th>\n      <td>4.871885</td>\n      <td>0.668710</td>\n      <td>0.714893</td>\n      <td>0.193247</td>\n      <td>0.361484</td>\n      <td>3.243722</td>\n      <td>0.090134</td>\n      <td>2.503542</td>\n      <td>4.657500</td>\n      <td>4.982542</td>\n      <td>...</td>\n      <td>0.198171</td>\n      <td>3.559481</td>\n      <td>0.608762</td>\n      <td>0.113156</td>\n      <td>3.702419</td>\n      <td>0.053738</td>\n      <td>0.655982</td>\n      <td>0.075344</td>\n      <td>0.269848</td>\n      <td>1.901347</td>\n    </tr>\n    <tr>\n      <th>2</th>\n      <td>0.438117</td>\n      <td>0.092948</td>\n      <td>0.575860</td>\n      <td>0.214896</td>\n      <td>0.358291</td>\n      <td>0.186826</td>\n      <td>0.057171</td>\n      <td>0.175612</td>\n      <td>0.307891</td>\n      <td>3.446350</td>\n      <td>...</td>\n      <td>0.141817</td>\n      <td>0.158343</td>\n      <td>0.215073</td>\n      <td>0.035222</td>\n      <td>0.521429</td>\n      <td>0.488578</td>\n      <td>0.543154</td>\n      <td>0.067651</td>\n      <td>0.345289</td>\n      <td>0.151289</td>\n    </tr>\n    <tr>\n      <th>3</th>\n      <td>0.236267</td>\n      <td>0.239192</td>\n      <td>0.038079</td>\n      <td>0.065603</td>\n      <td>0.086292</td>\n      <td>0.361229</td>\n      <td>0.195316</td>\n      <td>0.697256</td>\n      <td>0.097562</td>\n      <td>0.891705</td>\n      <td>...</td>\n      <td>0.030427</td>\n      <td>0.071279</td>\n      <td>0.064333</td>\n      <td>0.026030</td>\n      <td>1.009622</td>\n      <td>0.003457</td>\n      <td>0.041341</td>\n      <td>0.121138</td>\n      <td>0.050865</td>\n      <td>0.247654</td>\n    </tr>\n    <tr>\n      <th>4</th>\n      <td>0.068818</td>\n      <td>0.005992</td>\n      <td>0.009929</td>\n      <td>0.072932</td>\n      <td>0.192728</td>\n      <td>0.078846</td>\n      <td>0.067753</td>\n      <td>0.476411</td>\n      <td>0.069276</td>\n      <td>0.085827</td>\n      <td>...</td>\n      <td>0.011302</td>\n      <td>0.011248</td>\n      <td>0.066994</td>\n      <td>0.014847</td>\n      <td>0.345044</td>\n      <td>0.661493</td>\n      <td>0.027133</td>\n      <td>0.011392</td>\n      <td>0.000217</td>\n      <td>0.017847</td>\n    </tr>\n    <tr>\n      <th>5</th>\n      <td>0.111529</td>\n      <td>0.111383</td>\n      <td>0.011354</td>\n      <td>0.055503</td>\n      <td>0.380067</td>\n      <td>0.129457</td>\n      <td>0.066480</td>\n      <td>0.271837</td>\n      <td>0.058576</td>\n      <td>1.218124</td>\n      <td>...</td>\n      <td>0.162230</td>\n      <td>0.228063</td>\n      <td>0.047033</td>\n      <td>0.048250</td>\n      <td>0.845374</td>\n      <td>0.129167</td>\n      <td>0.055304</td>\n      <td>0.002136</td>\n      <td>0.169258</td>\n      <td>0.170130</td>\n    </tr>\n    <tr>\n      <th>...</th>\n      <td>...</td>\n      <td>...</td>\n      <td>...</td>\n      <td>...</td>\n      <td>...</td>\n      <td>...</td>\n      <td>...</td>\n      <td>...</td>\n      <td>...</td>\n      <td>...</td>\n      <td>...</td>\n      <td>...</td>\n      <td>...</td>\n      <td>...</td>\n      <td>...</td>\n      <td>...</td>\n      <td>...</td>\n      <td>...</td>\n      <td>...</td>\n      <td>...</td>\n      <td>...</td>\n    </tr>\n    <tr>\n      <th>3948</th>\n      <td>0.237982</td>\n      <td>0.627199</td>\n      <td>0.043739</td>\n      <td>0.094150</td>\n      <td>0.273037</td>\n      <td>0.339920</td>\n      <td>0.207974</td>\n      <td>0.018805</td>\n      <td>0.766159</td>\n      <td>0.727699</td>\n      <td>...</td>\n      <td>0.298318</td>\n      <td>0.134509</td>\n      <td>0.041080</td>\n      <td>0.109624</td>\n      <td>0.549066</td>\n      <td>1.313711</td>\n      <td>0.226731</td>\n      <td>0.098053</td>\n      <td>0.891569</td>\n      <td>0.659637</td>\n    </tr>\n    <tr>\n      <th>3949</th>\n      <td>0.036789</td>\n      <td>0.293496</td>\n      <td>0.109650</td>\n      <td>0.099849</td>\n      <td>0.480053</td>\n      <td>0.050315</td>\n      <td>0.158560</td>\n      <td>0.259364</td>\n      <td>0.016426</td>\n      <td>0.189360</td>\n      <td>...</td>\n      <td>0.010939</td>\n      <td>0.241871</td>\n      <td>0.002943</td>\n      <td>0.107708</td>\n      <td>0.004363</td>\n      <td>1.678013</td>\n      <td>0.495063</td>\n      <td>0.005975</td>\n      <td>0.327751</td>\n      <td>0.329644</td>\n    </tr>\n    <tr>\n      <th>3950</th>\n      <td>0.023227</td>\n      <td>0.020154</td>\n      <td>0.036885</td>\n      <td>0.038574</td>\n      <td>0.006323</td>\n      <td>0.051571</td>\n      <td>0.104950</td>\n      <td>0.047434</td>\n      <td>0.091822</td>\n      <td>0.204647</td>\n      <td>...</td>\n      <td>0.111578</td>\n      <td>0.041979</td>\n      <td>0.005280</td>\n      <td>0.066220</td>\n      <td>0.056851</td>\n      <td>0.468784</td>\n      <td>0.039329</td>\n      <td>0.015083</td>\n      <td>0.011674</td>\n      <td>0.120566</td>\n    </tr>\n    <tr>\n      <th>3951</th>\n      <td>0.096212</td>\n      <td>0.034439</td>\n      <td>0.067831</td>\n      <td>0.007892</td>\n      <td>0.141444</td>\n      <td>0.041613</td>\n      <td>0.003199</td>\n      <td>0.046715</td>\n      <td>0.009995</td>\n      <td>0.169664</td>\n      <td>...</td>\n      <td>0.082670</td>\n      <td>0.076223</td>\n      <td>0.007305</td>\n      <td>0.032883</td>\n      <td>0.043014</td>\n      <td>0.321853</td>\n      <td>0.149732</td>\n      <td>0.015647</td>\n      <td>0.076091</td>\n      <td>0.118427</td>\n    </tr>\n    <tr>\n      <th>3952</th>\n      <td>0.155818</td>\n      <td>0.127223</td>\n      <td>0.045004</td>\n      <td>0.154607</td>\n      <td>0.231599</td>\n      <td>0.088995</td>\n      <td>0.051600</td>\n      <td>0.003836</td>\n      <td>0.329807</td>\n      <td>0.587817</td>\n      <td>...</td>\n      <td>0.029939</td>\n      <td>0.251553</td>\n      <td>0.002293</td>\n      <td>0.075056</td>\n      <td>0.042329</td>\n      <td>0.631957</td>\n      <td>0.277096</td>\n      <td>0.165250</td>\n      <td>0.218880</td>\n      <td>0.021517</td>\n    </tr>\n  </tbody>\n</table>\n<p>3700 rows × 6040 columns</p>\n</div>"
     },
     "execution_count": 427,
     "metadata": {},
     "output_type": "execute_result"
    }
   ],
   "source": [
    "recsys.model.data.T"
   ],
   "metadata": {
    "collapsed": false
   }
  },
  {
   "cell_type": "code",
   "execution_count": 426,
   "outputs": [
    {
     "data": {
      "text/plain": "array([[1.        , 0.61568425, 0.57162265, ..., 0.52623685, 0.51702564,\n        0.50257585],\n       [0.61568425, 1.        , 0.6475498 , ..., 0.522697  , 0.4778184 ,\n        0.46935634],\n       [0.57162265, 0.6475498 , 1.        , ..., 0.5094573 , 0.48454428,\n        0.49444004],\n       ...,\n       [0.52623685, 0.522697  , 0.5094573 , ..., 1.        , 0.77118592,\n        0.78409996],\n       [0.51702564, 0.4778184 , 0.48454428, ..., 0.77118592, 1.        ,\n        0.73623774],\n       [0.50257585, 0.46935634, 0.49444004, ..., 0.78409996, 0.73623774,\n        1.        ]])"
     },
     "execution_count": 426,
     "metadata": {},
     "output_type": "execute_result"
    }
   ],
   "source": [
    "# similarity = np.dot(recsys.model.data[movie_id], recsys.model.data.values) / (magnitude[int(movie_id) - 1] * magnitude)\n",
    "cosine_similarity(recsys.model.data.T, recsys.model.data.T)"
   ],
   "metadata": {
    "collapsed": false
   }
  },
  {
   "cell_type": "code",
   "execution_count": 213,
   "outputs": [],
   "source": [
    "# sim_df_data = cosine_similarity(recsys.model.data.T, recsys.model.data.T)\n",
    "# np.fill_diagonal(sim_df_data, 0)"
   ],
   "metadata": {
    "collapsed": false
   }
  },
  {
   "cell_type": "code",
   "execution_count": 214,
   "outputs": [
    {
     "data": {
      "text/plain": "array([[0.        , 0.61568425, 0.57162265, ..., 0.52623685, 0.51702564,\n        0.50257585],\n       [0.61568425, 0.        , 0.6475498 , ..., 0.522697  , 0.4778184 ,\n        0.46935634],\n       [0.57162265, 0.6475498 , 0.        , ..., 0.5094573 , 0.48454428,\n        0.49444004],\n       ...,\n       [0.52623685, 0.522697  , 0.5094573 , ..., 0.        , 0.77118592,\n        0.78409996],\n       [0.51702564, 0.4778184 , 0.48454428, ..., 0.77118592, 0.        ,\n        0.73623774],\n       [0.50257585, 0.46935634, 0.49444004, ..., 0.78409996, 0.73623774,\n        0.        ]])"
     },
     "execution_count": 214,
     "metadata": {},
     "output_type": "execute_result"
    }
   ],
   "source": [
    "sim_df_data"
   ],
   "metadata": {
    "collapsed": false
   }
  },
  {
   "cell_type": "code",
   "execution_count": 120,
   "outputs": [],
   "source": [],
   "metadata": {
    "collapsed": false
   }
  },
  {
   "cell_type": "code",
   "execution_count": 215,
   "outputs": [],
   "source": [
    "sim_df = pd.DataFrame(sim_df_data, recsys.model.data.columns, recsys.model.data.columns)"
   ],
   "metadata": {
    "collapsed": false
   }
  },
  {
   "cell_type": "code",
   "execution_count": 479,
   "outputs": [
    {
     "data": {
      "text/plain": "1       0.545478\n2       0.610611\n3       0.527990\n4       0.516279\n5       0.520910\n          ...   \n3948    0.521449\n3949    0.528689\n3950    0.608248\n3951    0.549604\n3952    0.520427\nName: 3461, Length: 3700, dtype: float64"
     },
     "execution_count": 479,
     "metadata": {},
     "output_type": "execute_result"
    }
   ],
   "source": [
    "sim_df[str('3461')]"
   ],
   "metadata": {
    "collapsed": false
   }
  },
  {
   "cell_type": "code",
   "execution_count": 218,
   "outputs": [
    {
     "data": {
      "text/plain": "0.9534783333144752"
     },
     "execution_count": 218,
     "metadata": {},
     "output_type": "execute_result"
    }
   ],
   "source": [
    "np.max(sim_df['596'])"
   ],
   "metadata": {
    "collapsed": false
   }
  },
  {
   "cell_type": "code",
   "execution_count": 476,
   "outputs": [
    {
     "data": {
      "text/plain": "array([1931, 1099, 3168, 2820, 1085])"
     },
     "execution_count": 476,
     "metadata": {},
     "output_type": "execute_result"
    }
   ],
   "source": [
    "np.array(sim_df['3461'].sort_values(ascending=False)[:5].index.values, dtype=int)"
   ],
   "metadata": {
    "collapsed": false
   }
  },
  {
   "cell_type": "code",
   "execution_count": 514,
   "outputs": [
    {
     "data": {
      "text/plain": "(array([2018, 1029, 2096,  594, 1022]),\n 2018    0.953478\n 1029    0.931716\n 2096    0.919233\n 594     0.914133\n 1022    0.913597\n Name: 596, dtype: float64)"
     },
     "execution_count": 514,
     "metadata": {},
     "output_type": "execute_result"
    }
   ],
   "source": [
    "top_n_movies_indexes, sim_df['596'].sort_values(ascending=False)[:5]"
   ],
   "metadata": {
    "collapsed": false
   }
  },
  {
   "cell_type": "code",
   "execution_count": 525,
   "outputs": [
    {
     "data": {
      "text/plain": "{2018: 0, 1029: 1, 2096: 2, 594: 3, 1022: 4}"
     },
     "execution_count": 525,
     "metadata": {},
     "output_type": "execute_result"
    }
   ],
   "source": [],
   "metadata": {
    "collapsed": false
   }
  },
  {
   "cell_type": "code",
   "execution_count": 580,
   "outputs": [
    {
     "ename": "SyntaxError",
     "evalue": "invalid syntax (Temp/ipykernel_10112/3879629942.py, line 3)",
     "output_type": "error",
     "traceback": [
      "\u001B[1;36m  File \u001B[1;32m\"C:\\Users\\Acer\\AppData\\Local\\Temp/ipykernel_10112/3879629942.py\"\u001B[1;36m, line \u001B[1;32m3\u001B[0m\n\u001B[1;33m    top_movies.sort_values('order')['title']values.tolist()\u001B[0m\n\u001B[1;37m                                            ^\u001B[0m\n\u001B[1;31mSyntaxError\u001B[0m\u001B[1;31m:\u001B[0m invalid syntax\n"
     ]
    }
   ],
   "source": [
    "top_movies = recsys.items_matrix.loc[recsys.items_matrix['movie_id'].isin(top_n_movies_indexes.tolist()), :]\n",
    "top_movies['order'] = top_movies['movie_id'].map(indexer)\n",
    "top_movies.sort_values('order')['title']values.tolist()"
   ],
   "metadata": {
    "collapsed": false
   }
  },
  {
   "cell_type": "code",
   "execution_count": 130,
   "outputs": [
    {
     "data": {
      "text/plain": "0.9257690800883402"
     },
     "execution_count": 130,
     "metadata": {},
     "output_type": "execute_result"
    }
   ],
   "source": [],
   "metadata": {
    "collapsed": false
   }
  },
  {
   "cell_type": "code",
   "execution_count": null,
   "outputs": [],
   "source": [
    "########################################################"
   ],
   "metadata": {
    "collapsed": false
   }
  },
  {
   "cell_type": "code",
   "execution_count": 209,
   "outputs": [],
   "source": [
    "# movie_name = 'pinocheo'"
   ],
   "metadata": {
    "collapsed": false
   }
  },
  {
   "cell_type": "code",
   "execution_count": 173,
   "outputs": [],
   "source": [
    "# ind = 60"
   ],
   "metadata": {
    "collapsed": false
   }
  },
  {
   "cell_type": "code",
   "execution_count": 200,
   "outputs": [
    {
     "data": {
      "text/plain": "2"
     },
     "execution_count": 200,
     "metadata": {},
     "output_type": "execute_result"
    }
   ],
   "source": [
    "# np.min(recsys.items_matrix['title'].apply(lambda title: levenshtein(re.sub(r' \\([0-9]{4}\\)', '', title.lower()), movie_name.lower())))"
   ],
   "metadata": {
    "collapsed": false
   }
  },
  {
   "cell_type": "code",
   "execution_count": 415,
   "outputs": [
    {
     "data": {
      "text/plain": "592"
     },
     "execution_count": 415,
     "metadata": {},
     "output_type": "execute_result"
    }
   ],
   "source": [
    "# it_min = recsys.items_matrix['title'].apply(lambda title: levenshtein(re.sub(r' \\([0-9]{4}\\)', '', title.lower()), movie_name.lower())).idxmin()\n",
    "# it_min"
   ],
   "metadata": {
    "collapsed": false
   }
  },
  {
   "cell_type": "code",
   "execution_count": 422,
   "outputs": [
    {
     "data": {
      "text/plain": "596"
     },
     "execution_count": 422,
     "metadata": {},
     "output_type": "execute_result"
    }
   ],
   "source": [
    "recsys.items_matrix.loc[it_min]['movie_id']"
   ],
   "metadata": {
    "collapsed": false
   }
  },
  {
   "cell_type": "code",
   "execution_count": 224,
   "outputs": [],
   "source": [
    "#######################################"
   ],
   "metadata": {
    "collapsed": false
   }
  },
  {
   "cell_type": "code",
   "execution_count": 412,
   "outputs": [
    {
     "data": {
      "text/plain": "movie_id                         596\ntitle               Pinocchio (1940)\ngenres          Animation|Children's\nrelease_year                    1940\nName: 592, dtype: object"
     },
     "execution_count": 412,
     "metadata": {},
     "output_type": "execute_result"
    }
   ],
   "source": [
    "# recsys.items_matrix.loc[592]"
   ],
   "metadata": {
    "collapsed": false
   }
  },
  {
   "cell_type": "code",
   "execution_count": 224,
   "outputs": [],
   "source": [],
   "metadata": {
    "collapsed": false
   }
  },
  {
   "cell_type": "code",
   "execution_count": null,
   "outputs": [],
   "source": [
    "# top 596"
   ],
   "metadata": {
    "collapsed": false
   }
  },
  {
   "cell_type": "code",
   "execution_count": 439,
   "outputs": [],
   "source": [
    "array = [[2087, 1042, 2165, 598, 1035], [5, 4, 3, 2, 4]]\n",
    "array = np.array(array)"
   ],
   "metadata": {
    "collapsed": false
   }
  },
  {
   "cell_type": "code",
   "execution_count": 440,
   "outputs": [
    {
     "name": "stdout",
     "output_type": "stream",
     "text": [
      "norm\n"
     ]
    }
   ],
   "source": [
    "if len(array.shape) == 1:\n",
    "    print('error')\n",
    "else:\n",
    "    print('norm')"
   ],
   "metadata": {
    "collapsed": false
   }
  },
  {
   "cell_type": "code",
   "execution_count": 268,
   "outputs": [],
   "source": [],
   "metadata": {
    "collapsed": false
   }
  },
  {
   "cell_type": "code",
   "execution_count": 441,
   "outputs": [],
   "source": [
    "single_row = pd.DataFrame(data=[np.zeros_like(recsys.model.data.columns)],  columns=recsys.model.data.columns)"
   ],
   "metadata": {
    "collapsed": false
   }
  },
  {
   "cell_type": "code",
   "execution_count": 442,
   "outputs": [],
   "source": [
    "movie_from_array_ids = array[0]"
   ],
   "metadata": {
    "collapsed": false
   }
  },
  {
   "cell_type": "code",
   "execution_count": 443,
   "outputs": [],
   "source": [
    "ratings_from_array_ids = array[1]"
   ],
   "metadata": {
    "collapsed": false
   }
  },
  {
   "cell_type": "code",
   "execution_count": null,
   "outputs": [],
   "source": [],
   "metadata": {
    "collapsed": false
   }
  },
  {
   "cell_type": "code",
   "execution_count": 444,
   "outputs": [],
   "source": [
    "for (movie_id, rating) in zip(movie_from_array_ids, ratings_from_array_ids):\n",
    "    if str(movie_id) in single_row.columns:\n",
    "        single_row[f'{movie_id}'] = rating"
   ],
   "metadata": {
    "collapsed": false
   }
  },
  {
   "cell_type": "code",
   "execution_count": 445,
   "outputs": [],
   "source": [
    "# for movie_id in movie_from_array_ids:\n",
    "#     print(single_row[f'{movie_id}'])"
   ],
   "metadata": {
    "collapsed": false
   }
  },
  {
   "cell_type": "code",
   "execution_count": 362,
   "outputs": [],
   "source": [],
   "metadata": {
    "collapsed": false
   }
  },
  {
   "cell_type": "code",
   "execution_count": 625,
   "outputs": [],
   "source": [
    "new_user_to_athers_sim_df = pd.DataFrame(data=cosine_similarity(single_row, recsys.model.data),\n",
    "                                         columns=recsys.model.data.T.columns.values)"
   ],
   "metadata": {
    "collapsed": false
   }
  },
  {
   "cell_type": "code",
   "execution_count": 631,
   "outputs": [
    {
     "data": {
      "text/plain": "2342"
     },
     "execution_count": 631,
     "metadata": {},
     "output_type": "execute_result"
    }
   ],
   "source": [
    "new_user_to_athers_sim_df.idxmax(axis=1).max()"
   ],
   "metadata": {
    "collapsed": false
   }
  },
  {
   "cell_type": "code",
   "execution_count": 454,
   "outputs": [],
   "source": [
    "# максимально похож на этого юзера\n",
    "# user - int, movie - str\n",
    "# new_user_to_athers_sim_df[2342]"
   ],
   "metadata": {
    "collapsed": false
   }
  },
  {
   "cell_type": "code",
   "execution_count": 460,
   "outputs": [
    {
     "data": {
      "text/plain": "([899, 1947, 1035, 1028, 914],\n [4.118885978169936,\n  3.966565191153752,\n  3.74275893457156,\n  3.55204608957321,\n  3.523668979004352])"
     },
     "execution_count": 460,
     "metadata": {},
     "output_type": "execute_result"
    }
   ],
   "source": [
    "new_user_to_athers_sim_df = pd.DataFrame(data=cosine_similarity(single_row, recsys.model.data),\n",
    "                                         columns=recsys.model.data.T.columns.values).max()\n",
    "\n",
    "[int(x) for x in recsys.model.data.T[2342].sort_values(ascending=False)[:5].index.values.tolist()],\\\n",
    "    recsys.model.data.T[2342].sort_values(ascending=False)[:5].values.tolist()"
   ],
   "metadata": {
    "collapsed": false
   }
  },
  {
   "cell_type": "code",
   "execution_count": 395,
   "outputs": [],
   "source": [],
   "metadata": {
    "collapsed": false
   }
  },
  {
   "cell_type": "code",
   "execution_count": 459,
   "outputs": [
    {
     "data": {
      "text/plain": "[\"Singin' in the Rain (1952)\",\n 'My Fair Lady (1964)',\n 'Mary Poppins (1964)',\n 'Sound of Music, The (1965)',\n 'West Side Story (1961)']"
     },
     "execution_count": 459,
     "metadata": {},
     "output_type": "execute_result"
    }
   ],
   "source": [
    "topn_mov = np.array(recsys.model.data.T[2342].sort_values(ascending=False)[:5].index.values, dtype=int)\n",
    "recsys.items_matrix.loc[recsys.items_matrix['movie_id'].isin(topn_mov), :].title.values.tolist()"
   ],
   "metadata": {
    "collapsed": false
   }
  },
  {
   "cell_type": "code",
   "execution_count": 385,
   "outputs": [
    {
     "data": {
      "text/plain": "3952    0.025732\nName: 2342, dtype: float64"
     },
     "execution_count": 385,
     "metadata": {},
     "output_type": "execute_result"
    }
   ],
   "source": [
    "recsys.model.data.T[2342][-1:]"
   ],
   "metadata": {
    "collapsed": false
   }
  },
  {
   "cell_type": "code",
   "execution_count": 15,
   "outputs": [],
   "source": [
    "# test_dataset = recsys.create_user_item_rating_dataframe(recsys.users_matrix, recsys.items_matrix, ratings_test)"
   ],
   "metadata": {
    "collapsed": false
   }
  },
  {
   "cell_type": "code",
   "execution_count": 14,
   "outputs": [],
   "source": [
    "# ratings_test = pd.read_csv(options.test_data_path, names=['user_id', 'movie_id', 'rating', 'date'],\n",
    "#                             sep=options.data_loading_sep, engine=options.data_loading_engine, encoding=options.encoding)"
   ],
   "metadata": {
    "collapsed": false
   }
  },
  {
   "cell_type": "code",
   "execution_count": 21,
   "outputs": [],
   "source": [
    "# movies_ids = recsys.model.data.columns.values\n",
    "# movies_ids = [int(x) for x in movies_ids]"
   ],
   "metadata": {
    "collapsed": false
   }
  },
  {
   "cell_type": "code",
   "execution_count": 73,
   "outputs": [],
   "source": [
    "# recsys.model.data"
   ],
   "metadata": {
    "collapsed": false
   }
  },
  {
   "cell_type": "code",
   "execution_count": 74,
   "outputs": [],
   "source": [
    "# recsys.model.data['1']"
   ],
   "metadata": {
    "collapsed": false
   }
  },
  {
   "cell_type": "code",
   "execution_count": 78,
   "outputs": [],
   "source": [
    "\n",
    "#real_marks = []\n",
    "#predictions = []\n",
    "# index, row in test_dataset.iterrows():\n",
    " #   user_id = row['user_id'] - 1\n",
    " #   movie_id = str(row['movie_id'])\n",
    " #   rating = row['rating']\n",
    " #   if movie_id in recsys.model.data.columns:\n",
    "#        real_marks.append(rating)\n",
    "#        predictions.append(recsys.model.data[f'{movie_id}'][user_id])\n",
    "\n",
    "#    print(np.array(predictions).shape, np.array(real_marks).shape)\n",
    "\n",
    "#mean_squared_error(real_marks, predictions, squared=False)"
   ],
   "metadata": {
    "collapsed": false
   }
  },
  {
   "cell_type": "code",
   "execution_count": null,
   "outputs": [],
   "source": [],
   "metadata": {
    "collapsed": false
   }
  },
  {
   "cell_type": "code",
   "execution_count": 76,
   "outputs": [],
   "source": [],
   "metadata": {
    "collapsed": false
   }
  },
  {
   "cell_type": "code",
   "execution_count": 78,
   "id": "0527327d",
   "metadata": {},
   "outputs": [],
   "source": []
  },
  {
   "cell_type": "code",
   "execution_count": 79,
   "id": "377d101e",
   "metadata": {},
   "outputs": [],
   "source": [
    "recsys.surprise_train('../data/train/ratings_train.dat')"
   ]
  },
  {
   "cell_type": "code",
   "execution_count": 80,
   "outputs": [
    {
     "name": "stdout",
     "output_type": "stream",
     "text": [
      "RMSE evaluate: 0.8592949502700236\n"
     ]
    }
   ],
   "source": [
    "recsys.surprise_evaluate('./../data/test/ratings_test.dat')"
   ],
   "metadata": {
    "collapsed": false
   }
  },
  {
   "cell_type": "code",
   "execution_count": 93,
   "id": "6a31447d",
   "metadata": {},
   "outputs": [
    {
     "data": {
      "text/plain": "<__main__.RecSysMF at 0x2cca56a68e0>"
     },
     "execution_count": 93,
     "metadata": {},
     "output_type": "execute_result"
    }
   ],
   "source": []
  },
  {
   "cell_type": "code",
   "execution_count": 240,
   "outputs": [
    {
     "name": "stdout",
     "output_type": "stream",
     "text": [
      "RMSE: 3.2545500777654968\n"
     ]
    },
    {
     "data": {
      "text/plain": "3.2545500777654968"
     },
     "execution_count": 240,
     "metadata": {},
     "output_type": "execute_result"
    }
   ],
   "source": [],
   "metadata": {
    "collapsed": false
   }
  },
  {
   "cell_type": "code",
   "execution_count": 276,
   "outputs": [],
   "source": [],
   "metadata": {
    "collapsed": false
   }
  },
  {
   "cell_type": "code",
   "execution_count": 80,
   "outputs": [],
   "source": [],
   "metadata": {
    "collapsed": false
   }
  },
  {
   "cell_type": "code",
   "execution_count": 80,
   "outputs": [],
   "source": [],
   "metadata": {
    "collapsed": false
   }
  },
  {
   "cell_type": "code",
   "execution_count": null,
   "outputs": [],
   "source": [],
   "metadata": {
    "collapsed": false
   }
  },
  {
   "cell_type": "code",
   "execution_count": null,
   "outputs": [],
   "source": [],
   "metadata": {
    "collapsed": false
   }
  },
  {
   "cell_type": "code",
   "execution_count": null,
   "outputs": [],
   "source": [],
   "metadata": {
    "collapsed": false
   }
  },
  {
   "cell_type": "code",
   "execution_count": 175,
   "outputs": [],
   "source": [
    "# def __load_users_data(users_data: str):\n",
    "#         users = pd.read_csv(users_data, names=['user_id', 'gender', 'age', 'occupation', 'zip-code'],\n",
    "#                  sep=options.data_loading_sep, engine=options.data_loading_engine, encoding=options.encoding)\n",
    "#         n_users = users['user_id'].nunique()\n",
    "#\n",
    "#         return users, n_users\n",
    "#\n",
    "# # вынести\n",
    "# def __load_items_data(items_data: str):\n",
    "#     items = pd.read_csv(items_data, names=['movie_id', 'title', 'genres'],\n",
    "#              sep=options.data_loading_sep, engine=options.data_loading_engine, encoding=options.encoding)\n",
    "#     n_items = items['movie_id'].nunique()\n",
    "#\n",
    "#     return items, n_items\n",
    "#\n",
    "# def __load_ratings(ratings_data_path: str):\n",
    "#         ratings = pd.read_csv(ratings_data_path, names=['user_id', 'movie_id', 'rating', 'date'],\n",
    "#                             sep=options.data_loading_sep, engine=options.data_loading_engine, encoding=options.encoding)\n",
    "#         # if is_train:\n",
    "#         #     self.ratings_train = ratings\n",
    "#         # else:\n",
    "#         #     self.ratings_test = ratings\n",
    "#         return ratings"
   ],
   "metadata": {
    "collapsed": false
   }
  },
  {
   "cell_type": "code",
   "execution_count": null,
   "outputs": [],
   "source": [],
   "metadata": {
    "collapsed": false
   }
  },
  {
   "cell_type": "code",
   "execution_count": 169,
   "outputs": [],
   "source": [
    "# users, _ = __load_users_data(options.users_data_path)"
   ],
   "metadata": {
    "collapsed": false
   }
  },
  {
   "cell_type": "code",
   "execution_count": 171,
   "outputs": [],
   "source": [
    "# items, _ = __load_items_data(options.items_data_path)"
   ],
   "metadata": {
    "collapsed": false
   }
  },
  {
   "cell_type": "code",
   "execution_count": 176,
   "outputs": [],
   "source": [
    "# ratings = __load_ratings(options.train_data_path)"
   ],
   "metadata": {
    "collapsed": false
   }
  },
  {
   "cell_type": "code",
   "execution_count": 177,
   "outputs": [],
   "source": [],
   "metadata": {
    "collapsed": false
   }
  },
  {
   "cell_type": "code",
   "execution_count": 1,
   "outputs": [],
   "source": [
    "# __create_user_item_rating_dataframe(users, items, ratings)"
   ],
   "metadata": {
    "collapsed": false
   }
  },
  {
   "cell_type": "code",
   "execution_count": 173,
   "outputs": [],
   "source": [
    "# def __create_user_item_rating_dataframe(users: pd.DataFrame, items: pd.DataFrame, ratings: pd.DataFrame):\n",
    "#         dataframe = pd.merge(ratings, items, on='movie_id', how='left').merge(users, on='user_id', how='left')\n",
    "#         return dataframe"
   ],
   "metadata": {
    "collapsed": false
   }
  },
  {
   "cell_type": "code",
   "execution_count": null,
   "outputs": [],
   "source": [],
   "metadata": {
    "collapsed": false
   }
  },
  {
   "cell_type": "code",
   "execution_count": 2,
   "outputs": [],
   "source": [
    "# def __create_user_item_matrix(users: pd.DataFrame, items: pd.DataFrame, ratings: pd.DataFrame):\n",
    "#         user_item_rating_dataframe = __create_user_item_rating_dataframe(users, items, ratings)\n",
    "#         matrix = user_item_rating_dataframe.pivot(index='user_id', columns='movie_id', values='rating').fillna(0)\n",
    "#         return matrix"
   ],
   "metadata": {
    "collapsed": false
   }
  },
  {
   "cell_type": "code",
   "execution_count": null,
   "outputs": [],
   "source": [],
   "metadata": {
    "collapsed": false
   }
  },
  {
   "cell_type": "code",
   "execution_count": 120,
   "id": "53d3c447",
   "metadata": {},
   "outputs": [],
   "source": []
  },
  {
   "cell_type": "code",
   "execution_count": 120,
   "outputs": [],
   "source": [],
   "metadata": {
    "collapsed": false
   }
  },
  {
   "cell_type": "code",
   "execution_count": 120,
   "outputs": [],
   "source": [],
   "metadata": {
    "collapsed": false
   }
  },
  {
   "cell_type": "code",
   "execution_count": 120,
   "id": "530c6e40",
   "metadata": {},
   "outputs": [],
   "source": []
  },
  {
   "cell_type": "code",
   "execution_count": 118,
   "id": "74108bd3",
   "metadata": {},
   "outputs": [],
   "source": []
  },
  {
   "cell_type": "code",
   "execution_count": 119,
   "outputs": [],
   "source": [],
   "metadata": {
    "collapsed": false
   }
  },
  {
   "cell_type": "code",
   "execution_count": 120,
   "outputs": [],
   "source": [],
   "metadata": {
    "collapsed": false
   }
  },
  {
   "cell_type": "code",
   "execution_count": 114,
   "outputs": [],
   "source": [],
   "metadata": {
    "collapsed": false
   }
  },
  {
   "cell_type": "code",
   "execution_count": null,
   "id": "536f4681",
   "metadata": {},
   "outputs": [],
   "source": []
  },
  {
   "cell_type": "code",
   "execution_count": 90,
   "id": "d58dc0e8",
   "metadata": {},
   "outputs": [],
   "source": []
  },
  {
   "cell_type": "code",
   "execution_count": null,
   "outputs": [],
   "source": [],
   "metadata": {
    "collapsed": false
   }
  },
  {
   "cell_type": "code",
   "execution_count": 114,
   "outputs": [],
   "source": [],
   "metadata": {
    "collapsed": false
   }
  },
  {
   "cell_type": "code",
   "execution_count": null,
   "outputs": [],
   "source": [],
   "metadata": {
    "collapsed": false
   }
  },
  {
   "cell_type": "code",
   "execution_count": 24,
   "id": "af74fe1a",
   "metadata": {},
   "outputs": [],
   "source": []
  },
  {
   "cell_type": "code",
   "execution_count": 113,
   "outputs": [],
   "source": [],
   "metadata": {
    "collapsed": false
   }
  },
  {
   "cell_type": "code",
   "execution_count": 42,
   "id": "25cf5ea3",
   "metadata": {},
   "outputs": [],
   "source": [
    "# # user_ids = np.array(test_set.user_id.values)\n",
    "#\n",
    "# user_ids = matrix.index.values\n",
    "#\n",
    "# movie_ids = matrix.T.index.values"
   ]
  },
  {
   "cell_type": "code",
   "execution_count": 3,
   "id": "99b1c2cb",
   "metadata": {},
   "outputs": [],
   "source": [
    "# preds = []\n",
    "# for user in user_ids:\n",
    "#     row = []\n",
    "#     for movie in movie_ids:\n",
    "#         row.append(svd.predict(user - 1, movie - 1).est)\n",
    "#     print(f'user {user} counted')\n",
    "#     preds.append(row)"
   ]
  },
  {
   "cell_type": "code",
   "execution_count": 35,
   "id": "28382f49",
   "metadata": {},
   "outputs": [],
   "source": [
    "# user_item_rating_dataframe = test_set\n",
    "# matrix = user_item_rating_dataframe.pivot(index='user_id', columns='movie_id', values='rating').fillna(0)"
   ]
  },
  {
   "cell_type": "code",
   "execution_count": 58,
   "id": "3683cfe0",
   "metadata": {},
   "outputs": [
    {
     "data": {
      "text/plain": "1.9998207379392061"
     },
     "execution_count": 58,
     "metadata": {},
     "output_type": "execute_result"
    }
   ],
   "source": [
    "# svd.predict(5, 4).est"
   ]
  },
  {
   "cell_type": "code",
   "execution_count": 4,
   "id": "cc267690",
   "metadata": {},
   "outputs": [],
   "source": [
    "# preds_numpy = np.array(preds)"
   ]
  },
  {
   "cell_type": "code",
   "execution_count": 5,
   "id": "ca778716",
   "metadata": {},
   "outputs": [],
   "source": [
    "# preds_numpy.shape"
   ]
  },
  {
   "cell_type": "code",
   "execution_count": 6,
   "outputs": [],
   "source": [
    "# movie_ids"
   ],
   "metadata": {
    "collapsed": false
   }
  },
  {
   "cell_type": "code",
   "execution_count": 7,
   "outputs": [],
   "source": [
    "# mean_squared_error(matrix.values, preds_numpy, squared=False)"
   ],
   "metadata": {
    "collapsed": false
   }
  },
  {
   "cell_type": "code",
   "execution_count": 8,
   "outputs": [],
   "source": [
    "# real_marks = []\n",
    "# predictions = []\n",
    "# for index, row in test_df.iterrows():\n",
    "#     user_id = row['user_id'] - 1\n",
    "#     movie_id = row['movie_id'] - 1\n",
    "#     rating = row['rating']\n",
    "#     if movie_id in movie_ids:\n",
    "#         real_marks.append(rating)\n",
    "#         predictions.append(svd.predict(user_id, movie_id).est)"
   ],
   "metadata": {
    "collapsed": false
   }
  },
  {
   "cell_type": "code",
   "execution_count": 9,
   "outputs": [],
   "source": [
    "# mean_squared_error(np.array(real_marks), np.array(predictions), squared=False)"
   ],
   "metadata": {
    "collapsed": false
   }
  },
  {
   "cell_type": "code",
   "execution_count": null,
   "outputs": [],
   "source": [],
   "metadata": {
    "collapsed": false
   }
  },
  {
   "cell_type": "code",
   "execution_count": 10,
   "outputs": [],
   "source": [
    "# svd.test(test_set)"
   ],
   "metadata": {
    "collapsed": false
   }
  },
  {
   "cell_type": "code",
   "execution_count": 104,
   "outputs": [],
   "source": [],
   "metadata": {
    "collapsed": false
   }
  },
  {
   "cell_type": "code",
   "execution_count": 10,
   "outputs": [],
   "source": [],
   "metadata": {
    "collapsed": false
   }
  },
  {
   "cell_type": "code",
   "execution_count": 12,
   "id": "792894f7",
   "metadata": {},
   "outputs": [],
   "source": [
    "# def import_data():\n",
    "#     movies = pd.read_csv( './../data/train/movies.dat', encoding='windows-1251',\n",
    "#                          names=['movie_id', 'title', 'genres'], sep='::', skiprows=0, engine='python')\n",
    "#     users = pd.read_csv( './../data/train/users.dat', names=['user_id', 'gender',\n",
    "#                                                        'age', 'occupation', 'zip-code'], sep='::', skiprows=0, engine='python')\n",
    "#     ratings_train = pd.read_csv( './../data/train/ratings_train.dat', names=['user_id', 'movie_id', 'rating', 'date'],\n",
    "#                                 sep='::', skiprows=0, engine='python')\n",
    "#     ratings_test = pd.read_csv( './../data/test/ratings_test.dat', names=['user_id', 'movie_id', 'rating', 'date'],\n",
    "#                                sep='::', skiprows=0, engine='python')\n",
    "#\n",
    "#     return split_into_datasets(*proceed_data(movies, users, ratings_train, ratings_test))\n",
    "#\n",
    "# def proceed_data(movies, users, ratings_train, ratings_test):\n",
    "#\n",
    "#     ages_map = {1: 'Under 18',\n",
    "#             18: '18 - 24',\n",
    "#             25: '25 - 34',\n",
    "#             35: '35 - 44',\n",
    "#             45: '45 - 49',\n",
    "#             50: '50 - 55',\n",
    "#             56: '56+'}\n",
    "#\n",
    "#     occupations_map = {0: 'Not specified',\n",
    "#                        1: 'Academic / Educator',\n",
    "#                        2: 'Artist',\n",
    "#                        3: 'Clerical / Admin',\n",
    "#                        4: 'College / Grad Student',\n",
    "#                        5: 'Customer Service',\n",
    "#                        6: 'Doctor / Health Care',\n",
    "#                        7: 'Executive / Managerial',\n",
    "#                        8: 'Farmer',\n",
    "#                        9: 'Homemaker',\n",
    "#                        10: 'K-12 student',\n",
    "#                        11: 'Lawyer',\n",
    "#                        12: 'Programmer',\n",
    "#                        13: 'Retired',\n",
    "#                        14: 'Sales / Marketing',\n",
    "#                        15: 'Scientist',\n",
    "#                        16: 'Self-Employed',\n",
    "#                        17: 'Technician / Engineer',\n",
    "#                        18: 'Tradesman / Craftsman',\n",
    "#                        19: 'Unemployed',\n",
    "#                        20: 'Writer'}\n",
    "#\n",
    "#     gender_map = {'M': 'Male', 'F': 'Female'}\n",
    "#\n",
    "#     users['age'] = users['age'].map(ages_map)\n",
    "#     users['occupation'] = users['occupation'].map(occupations_map)\n",
    "#     users['gender'] = users['gender'].map(gender_map)\n",
    "#\n",
    "#     ratings_train['date'] = pd.to_datetime(ratings_train['date'], unit='s')\n",
    "#     ratings_test['date'] = pd.to_datetime(ratings_test['date'], unit='s')\n",
    "#\n",
    "#     movies['release_year'] = movies['title'].str.extract(r'(?:\\((\\d{4})\\))?\\s*$', expand=False)\n",
    "#\n",
    "#     return movies, users, ratings_train, ratings_test\n",
    "#\n",
    "# def create_user_item_matrix(train_set):\n",
    "#     return train_set.pivot(index='user_id', columns='movie_id', values='rating').fillna(0)\n",
    "#\n",
    "# def normalize_matrix(matrix):\n",
    "#     mean_user_rating = np.mean(matrix.values, axis=1).reshape(-1, 1)\n",
    "#     matrix_demeaned_values = matrix.values - mean_user_rating\n",
    "#     matrix = pd.DataFrame(data=matrix_demeaned_values, index=matrix.index, columns=matrix.columns)\n",
    "#\n",
    "#     return matrix, mean_user_rating\n",
    "#\n",
    "#\n",
    "# def split_into_datasets(movies, users, ratings_train, ratings_test):\n",
    "#     train_set = pd.merge(ratings_train, movies, on='movie_id', how='left').merge(users, on='user_id', how='left')\n",
    "#     test_set = pd.merge(ratings_test, movies, on='movie_id', how='left').merge(users, on='user_id', how='left')\n",
    "#\n",
    "#     return train_set, test_set"
   ]
  },
  {
   "cell_type": "code",
   "execution_count": null,
   "id": "3487e91a",
   "metadata": {},
   "outputs": [],
   "source": []
  },
  {
   "cell_type": "code",
   "execution_count": 13,
   "id": "337d216e",
   "metadata": {},
   "outputs": [],
   "source": [
    "# matrix"
   ]
  },
  {
   "cell_type": "code",
   "execution_count": null,
   "id": "510ab800",
   "metadata": {},
   "outputs": [],
   "source": []
  },
  {
   "cell_type": "code",
   "execution_count": null,
   "id": "33002d8c",
   "metadata": {},
   "outputs": [],
   "source": []
  },
  {
   "cell_type": "code",
   "execution_count": null,
   "id": "e1a0547e",
   "metadata": {},
   "outputs": [],
   "source": []
  },
  {
   "cell_type": "code",
   "execution_count": null,
   "id": "63672459",
   "metadata": {},
   "outputs": [],
   "source": []
  },
  {
   "cell_type": "code",
   "execution_count": null,
   "id": "65ed5de9",
   "metadata": {},
   "outputs": [],
   "source": []
  },
  {
   "cell_type": "code",
   "execution_count": null,
   "id": "bacba839",
   "metadata": {},
   "outputs": [],
   "source": []
  },
  {
   "cell_type": "code",
   "execution_count": null,
   "id": "5e6abc1d",
   "metadata": {},
   "outputs": [],
   "source": []
  },
  {
   "cell_type": "code",
   "execution_count": null,
   "id": "b0afcd7f",
   "metadata": {},
   "outputs": [],
   "source": []
  },
  {
   "cell_type": "code",
   "execution_count": null,
   "id": "371fa837",
   "metadata": {},
   "outputs": [],
   "source": []
  },
  {
   "cell_type": "code",
   "execution_count": null,
   "id": "3da552c6",
   "metadata": {},
   "outputs": [],
   "source": []
  },
  {
   "cell_type": "code",
   "execution_count": null,
   "id": "2312686f",
   "metadata": {},
   "outputs": [],
   "source": []
  },
  {
   "cell_type": "code",
   "execution_count": null,
   "id": "788e207b",
   "metadata": {},
   "outputs": [],
   "source": []
  },
  {
   "cell_type": "code",
   "execution_count": null,
   "id": "c105b778",
   "metadata": {},
   "outputs": [],
   "source": []
  },
  {
   "cell_type": "code",
   "execution_count": null,
   "id": "71115e11",
   "metadata": {},
   "outputs": [],
   "source": []
  },
  {
   "cell_type": "code",
   "execution_count": null,
   "id": "53beb4f0",
   "metadata": {},
   "outputs": [],
   "source": []
  }
 ],
 "metadata": {
  "kernelspec": {
   "display_name": "Python 3",
   "language": "python",
   "name": "python3"
  },
  "language_info": {
   "codemirror_mode": {
    "name": "ipython",
    "version": 3
   },
   "file_extension": ".py",
   "mimetype": "text/x-python",
   "name": "python",
   "nbconvert_exporter": "python",
   "pygments_lexer": "ipython3",
   "version": "3.10.7"
  },
  "vscode": {
   "interpreter": {
    "hash": "58837b1b657ea91009af8409fc244ae3b5ccf93ea980d6fb6b80adc5f697f4cc"
   }
  }
 },
 "nbformat": 4,
 "nbformat_minor": 5
}
